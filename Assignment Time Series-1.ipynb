{
 "cells": [
  {
   "cell_type": "markdown",
   "id": "ad2e7f4d-85b1-43eb-a396-d56b831798cb",
   "metadata": {},
   "source": [
    "## Q1. What is a time series, and what are some common applications of time series analysis?"
   ]
  },
  {
   "cell_type": "markdown",
   "id": "edc858e2-3dc1-4364-a6cf-141a73fd34f8",
   "metadata": {},
   "source": [
    "## A time series is a sequence of data points that occur in successive order over some period of time. This can be contrasted with cross-sectional data, which captures a point in time.\n",
    "## Applications of time series analysis:\n",
    "## Financial forecasting.\n",
    "## Economic forecasting.\n",
    "## Sales forecasting.\n",
    "## Utility forecasting.\n",
    "## Weather forecasting.\n",
    "## Fraud detection.\n",
    "## Medical diagnosis."
   ]
  },
  {
   "cell_type": "code",
   "execution_count": null,
   "id": "15d30cff-a63a-43a7-ba12-e05cf212d04a",
   "metadata": {},
   "outputs": [],
   "source": []
  },
  {
   "cell_type": "markdown",
   "id": "8f43646a-286e-41b7-9c2c-12f1237d8c9d",
   "metadata": {},
   "source": [
    "## Q2. What are some common time series patterns, and how can they be identified and interpreted?"
   ]
  },
  {
   "cell_type": "markdown",
   "id": "0688a53a-1492-4723-ac9a-b37967e8ec76",
   "metadata": {},
   "source": [
    "## Time series patterns:\n",
    "## Trend.\n",
    "## Seasonality.\n",
    "## Cycle.\n",
    "## Noise.\n",
    "\n",
    "## Time series patterns can be identified and interpreted by visually inspecting the data or by using statistical methods.\n",
    "## Identifying time series patterns visually.\n",
    "## Identifying time series patterns statistically.\n",
    "## Interpreting time series patterns."
   ]
  },
  {
   "cell_type": "code",
   "execution_count": null,
   "id": "6b5ced84-3942-4acf-a7c7-2890c26623db",
   "metadata": {},
   "outputs": [],
   "source": []
  },
  {
   "cell_type": "markdown",
   "id": "4bcaae02-f162-4ba5-880c-220ceef8e159",
   "metadata": {},
   "source": [
    "## Q3. How can time series data be preprocessed before applying analysis techniques?"
   ]
  },
  {
   "cell_type": "markdown",
   "id": "2981c9d7-6c75-4908-a0e4-7620444bd25c",
   "metadata": {},
   "source": [
    "## Time series data pre-processing is the process of cleaning and preparing the data for analysis. It is an important step in any time series analysis project, as the quality of the data will have a significant impact on the results of the analysis.\n",
    "## Handle missing values.\n",
    "## Remove outliers.\n",
    "## Scale the data.\n",
    "## Transform the data.\n",
    "## Decompose the data.\n",
    "## The specific pre-processing steps that you need to perform will depend on the type of data you have and the analysis techniques that you plan to use."
   ]
  },
  {
   "cell_type": "code",
   "execution_count": null,
   "id": "fb806a28-2ed8-4e53-b3e3-7dcafc42476d",
   "metadata": {},
   "outputs": [],
   "source": []
  },
  {
   "cell_type": "markdown",
   "id": "89eb92f5-b8c0-4abf-a19f-820cda2deedc",
   "metadata": {},
   "source": [
    "## Q4. How can time series forecasting be used in business decision-making, and what are some common challenges and limitations?"
   ]
  },
  {
   "cell_type": "markdown",
   "id": "2d4d84b9-fc85-4e5a-91a8-a18cd1ac42b1",
   "metadata": {},
   "source": [
    "## Time series forecasting can be used in business decision-making:\n",
    "## Sales forecasting.\n",
    "## Demand forecasting.\n",
    "## Financial forecasting.\n",
    "## Risk management.\n",
    "## Time series forecasting is a powerful tool that can help businesses to make better decisions and improve outcomes. \n",
    "\n",
    "## Challenges and limitations of time series forecasting:\n",
    "## Accuracy.\n",
    "## Non-stationarity.\n",
    "## Exogenous factors.\n",
    "## Despite these challenges, time series forecasting can be a valuable tool for business decision-making. By being aware of the limitations of time series forecasting and using it carefully, businesses can make better decisions and improve outcomes."
   ]
  },
  {
   "cell_type": "code",
   "execution_count": null,
   "id": "6c43131c-d4ed-4110-9ab6-43cfc6df8ccd",
   "metadata": {},
   "outputs": [],
   "source": []
  },
  {
   "cell_type": "markdown",
   "id": "7d7c3f5c-6ee7-4166-9686-88d7720a9816",
   "metadata": {},
   "source": [
    "## Q5. What is ARIMA modelling, and how can it be used to forecast time series data?"
   ]
  },
  {
   "cell_type": "markdown",
   "id": "a8aaf8d5-60c0-4b6d-90bf-a122290e1659",
   "metadata": {},
   "source": [
    "## ARIMA stands for Autoregressive Integrated Moving Average. It is a class of statistical models that are used to analyze and forecast time series data. ARIMA models are based on the assumption that future values of a time series can be predicted based on its past values and errors.\n",
    "\n",
    "## ARIMA models are a powerful tool for forecasting time series data. However, they are not without their limitations. One limitation is that ARIMA models can be difficult to build and interpret. Another limitation is that ARIMA models are only as good as the data that they are trained on. If the data is noisy or incomplete, then the forecasts will be inaccurate.\n",
    "\n",
    "## Despite their limitations, ARIMA models are a widely used tool for forecasting time series data. They are used in a variety of industries, including finance, economics, and engineering."
   ]
  },
  {
   "cell_type": "code",
   "execution_count": null,
   "id": "1a8af753-8a56-41b9-a6f3-77ad1ffd358e",
   "metadata": {},
   "outputs": [],
   "source": []
  },
  {
   "cell_type": "markdown",
   "id": "d90d5076-05dd-47f8-b236-c15e123e89cd",
   "metadata": {},
   "source": [
    "## Q6. How do Autocorrelation Function (ACF) and Partial Autocorrelation Function (PACF) plots help in identifying the order of ARIMA models?"
   ]
  },
  {
   "cell_type": "markdown",
   "id": "e82bd8e5-1e71-49d9-8d03-99a0be5ab694",
   "metadata": {},
   "source": [
    "## The Autocorrelation Function (ACF) and Partial Autocorrelation Function (PACF) are two statistical tools that can be used to identify the order of ARIMA models.\n",
    "\n",
    "## you can look for the following patterns in the ACF and PACF plots:\n",
    "## AR order.\n",
    "## I order.\n",
    "## MA order."
   ]
  },
  {
   "cell_type": "code",
   "execution_count": null,
   "id": "2259abb6-ed52-4421-a9c2-ee330f11a5ca",
   "metadata": {},
   "outputs": [],
   "source": []
  },
  {
   "cell_type": "markdown",
   "id": "83ba36de-8177-4969-abe2-651a39d11fec",
   "metadata": {},
   "source": [
    "## Q7. What are the assumptions of ARIMA models, and how can they be tested for in practice?"
   ]
  },
  {
   "cell_type": "markdown",
   "id": "d79190f6-c161-4a20-8f95-3433bf664294",
   "metadata": {},
   "source": [
    "## ARIMA models are a type of time series model that can be used to forecast future values of a variable based on its past values. They are relatively simple to implement and can be used to forecast a wide range of time series data. However, ARIMA models do make a number of assumptions, which should be tested before using the model.\n",
    "\n",
    "## Test for the assumptions of ARIMA models:\n",
    "## Stationarity.\n",
    "## Linearity.\n",
    "## No outliers."
   ]
  },
  {
   "cell_type": "code",
   "execution_count": null,
   "id": "43dfec9f-f70d-4d66-95ba-2aa8047442d2",
   "metadata": {},
   "outputs": [],
   "source": []
  },
  {
   "cell_type": "code",
   "execution_count": null,
   "id": "dc4d961b-9ca1-47e1-ac33-df1bd6e27f54",
   "metadata": {},
   "outputs": [],
   "source": []
  }
 ],
 "metadata": {
  "kernelspec": {
   "display_name": "Python 3 (ipykernel)",
   "language": "python",
   "name": "python3"
  },
  "language_info": {
   "codemirror_mode": {
    "name": "ipython",
    "version": 3
   },
   "file_extension": ".py",
   "mimetype": "text/x-python",
   "name": "python",
   "nbconvert_exporter": "python",
   "pygments_lexer": "ipython3",
   "version": "3.10.8"
  }
 },
 "nbformat": 4,
 "nbformat_minor": 5
}
